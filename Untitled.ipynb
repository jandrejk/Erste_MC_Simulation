{
 "cells": [
  {
   "cell_type": "code",
   "execution_count": 7,
   "metadata": {
    "collapsed": true
   },
   "outputs": [],
   "source": [
    "# -*- coding: utf-8 -*-\n",
    "\"\"\"\n",
    "Created on Wed Oct 12 20:00:36 2016\n",
    "\n",
    "@author: janik\n",
    "\"\"\"\n",
    "\n",
    "import numpy as np\n",
    "import matplotlib.pyplot as plt\n",
    "import time\n",
    "import pylab as pl\n",
    "from IPython import display\n",
    "\n",
    "def BeerLambert (N_0,mu,x) :\n",
    "    return N_0 * np.exp(-1.*mu*x)\n",
    "\n",
    "def GetPhotonAttenuation(N_0,x_bins) :\n",
    "    \n",
    "    N = np.zeros(len(x_bins)+1)\n",
    "    N_e_created = []\n",
    "    \n",
    "    N[0] = N_0\n",
    "    for i,l in enumerate(x_bins) :\n",
    "        sample = np.random.random(N[i])\n",
    "        #mu*delta_x is a probability in [0,1]. If random number bigger\n",
    "        #than the photon survives the russian roulette :-)\n",
    "        N[i+1] = len(np.array(filter(lambda x: x > mu*delta_x, sample)))    \n",
    "        \n",
    "        N_e_created.append(N[i]-N[i+1])\n",
    "        \n",
    "    return N[:-1], N_e_created\n",
    "\n",
    "def EnergyBuildUp (N_e,x,delta_x,E_e,stopping) :\n",
    "    E_per_bin = stopping*delta_x\n",
    "    deposition_depth = int(E_e/E_per_bin)    \n",
    "\n",
    "    N = len(N_e)\n",
    "    \n",
    "    E_depo = np.zeros(N)\n",
    "\n",
    "    remove = 1\n",
    "    for i in range(N) :\n",
    "        first = np.zeros(i)\n",
    "        if ( (N-deposition_depth-i) >= 0) :\n",
    "            second = np.zeros(deposition_depth) + N_e[i]\n",
    "            third = np.zeros(N-deposition_depth-i)\n",
    "        else :\n",
    "            second = (np.zeros(deposition_depth) + N_e[i])[:-remove]\n",
    "            third = np.zeros(0)\n",
    "            remove += 1\n",
    "        \n",
    "        add = np.append(first,np.append(second,third))\n",
    "        E_depo += add\n",
    "\n",
    "        plt.title('Electron energy deposit in material (e produced via photo-effect)')\n",
    "        plt.ylabel('Energy deposit [MeV]')\n",
    "        plt.xlabel('depth [cm]')\n",
    "        plt.ylim(0,7000)\n",
    "        plt.ion()\n",
    "\n",
    "        plt.plot(x,E_depo,'rs')\n",
    "                \n",
    "        if (i == N-1) :\n",
    "            plt.pause(200.0)\n",
    "        else :\n",
    "            plt.pause(0.05)\n",
    "    return 0\n",
    "\n",
    "\n"
   ]
  },
  {
   "cell_type": "code",
   "execution_count": 10,
   "metadata": {
    "collapsed": false
   },
   "outputs": [
    {
     "name": "stdout",
     "output_type": "stream",
     "text": [
      "[0 1 2 3 4]\n",
      "[0 1 2]\n"
     ]
    },
    {
     "name": "stderr",
     "output_type": "stream",
     "text": [
      "/home/janik/anaconda2/lib/python2.7/site-packages/ipykernel/__main__.py:24: VisibleDeprecationWarning: using a non-integer number instead of an integer will result in an error in the future\n"
     ]
    },
    {
     "data": {
      "image/png": "[encoded data removed]",
      "text/plain": [
       "<matplotlib.figure.Figure at 0x7fd9de4be850>"
      ]
     },
     "metadata": {},
     "output_type": "display_data"
    }
   ],
   "source": [
    "q = np.arange(5)\n",
    "print q \n",
    "print q[:-2]\n",
    "\n",
    "\n",
    "N_0 = 100.\n",
    "mu = 0.2\n",
    "\n",
    "delta_x = 0.2 #1cm\n",
    "tickness = 20.  #10 cm\n",
    "\n",
    "x = np.arange(0.,tickness,delta_x)\n",
    "\n",
    "N_MC, No_electrons = GetPhotonAttenuation(N_0,x)\n",
    "N_theory = BeerLambert(N_0,mu,x)\n",
    "\n",
    "\n",
    "E_e = 10 #MeV\n",
    "stopping_power = 2 #MeV/cm    \n",
    "\n",
    "#EnergyBuildUp(No_electrons,x,delta_x,E_e,stopping_power)\n",
    "\n",
    "\n",
    "plt.plot(x,N_MC,'bo',label='MC')\n",
    "plt.plot(x,N_theory,'g.',label='Theory')\n",
    "plt.xlabel('depth [cm]')\n",
    "plt.ylabel('No of Photons')\n",
    "plt.legend(loc='best')\n",
    "plt.show()"
   ]
  },
  {
   "cell_type": "code",
   "execution_count": null,
   "metadata": {
    "collapsed": true
   },
   "outputs": [],
   "source": []
  }
 ],
 "metadata": {
  "kernelspec": {
   "display_name": "Python 2",
   "language": "python",
   "name": "python2"
  },
  "language_info": {
   "codemirror_mode": {
    "name": "ipython",
    "version": 2
   },
   "file_extension": ".py",
   "mimetype": "text/x-python",
   "name": "python",
   "nbconvert_exporter": "python",
   "pygments_lexer": "ipython2",
   "version": "2.7.13"
  }
 },
 "nbformat": 4,
 "nbformat_minor": 2
}
